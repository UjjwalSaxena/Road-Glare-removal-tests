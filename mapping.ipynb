{
  "nbformat": 4,
  "nbformat_minor": 0,
  "metadata": {
    "colab": {
      "name": "mapping.ipynb",
      "version": "0.3.2",
      "provenance": [],
      "collapsed_sections": [],
      "include_colab_link": true
    },
    "kernelspec": {
      "name": "python3",
      "display_name": "Python 3"
    },
    "accelerator": "GPU"
  },
  "cells": [
    {
      "cell_type": "markdown",
      "metadata": {
        "id": "view-in-github",
        "colab_type": "text"
      },
      "source": [
        "[View in Colaboratory](https://colab.research.google.com/github/UjjwalSaxena/road-glare-removal-tests/blob/master/mapping.ipynb)"
      ]
    },
    {
      "metadata": {
        "id": "AH9cmVUQcjRP",
        "colab_type": "code",
        "colab": {}
      },
      "cell_type": "code",
      "source": [
        "# !pip install moviepy\n",
        "# !pip install imutils\n",
        "# import cv2\n",
        "# import time\n",
        "# import matplotlib.pyplot as plt\n",
        "# import moviepy\n",
        "# from moviepy.editor import VideoFileClip\n",
        "# import glob\n",
        "# %matplotlib inline\n",
        "# import numpy as np\n",
        "# import imutils"
      ],
      "execution_count": 0,
      "outputs": []
    },
    {
      "metadata": {
        "id": "rSwpsMauduBQ",
        "colab_type": "code",
        "colab": {
          "base_uri": "https://localhost:8080/",
          "height": 199
        },
        "outputId": "20a2e269-3238-4bc1-da55-9a4149da28c9"
      },
      "cell_type": "code",
      "source": [
        "# def upload_files():\n",
        "#   from google.colab import files\n",
        "#   uploaded = files.upload()\n",
        "#   for k, v in uploaded.items():\n",
        "#     open(k, 'wb').write(v)\n",
        "#   return list(uploaded.keys())\n",
        "\n",
        "# upload_files()\n",
        "\n",
        "!mv \"VID_20180906_183242263.mp4\" \"test8.mp4\"\n",
        "# !mv \"VID_20180905_230058440.mp4\" \"test2.mp4\"\n",
        "# !mv \"VID_20180905_230112639.mp4\" \"test3.mp4\"\n",
        "!ls -lrt\n",
        "# !mkdir \"video_frames\""
      ],
      "execution_count": 181,
      "outputs": [
        {
          "output_type": "stream",
          "text": [
            "total 89544\r\n",
            "drwxr-xr-x 2 root root     4096 Aug 31 20:42 sample_data\r\n",
            "-rw-r--r-- 1 root root 10079771 Sep  6 06:06 test1.mp4\r\n",
            "-rw-r--r-- 1 root root 11128980 Sep  6 06:08 test2.mp4\r\n",
            "-rw-r--r-- 1 root root 14292943 Sep  6 06:12 test3.mp4\r\n",
            "-rw-r--r-- 1 root root 11398873 Sep  6 06:50 test4.mp4\r\n",
            "-rw-r--r-- 1 root root 15837610 Sep  6 09:57 test5.mp4\r\n",
            "-rw-r--r-- 1 root root  7619569 Sep  6 10:55 test6.mp4\r\n",
            "-rw-r--r-- 1 root root 13524140 Sep  6 13:05 test7.mp4\r\n",
            "-rw-r--r-- 1 root root  7791535 Sep  6 13:15 test8.mp4\r\n"
          ],
          "name": "stdout"
        }
      ]
    },
    {
      "metadata": {
        "id": "YWeTBWQkmkzY",
        "colab_type": "code",
        "colab": {}
      },
      "cell_type": "code",
      "source": [
        "\n",
        "# def process(curr,next):\n",
        "#   return cv2.calcOpticalFlowFarneback(curr,next, None, 0.5, 3, 15, 3, 5, 1.2, 0)   #pyr_scale, levels, winsize, iterations, poly_n, poly_sigma, flags\n",
        "\n",
        "\n",
        "import random\n",
        "def Generate_points(x,low,high):\n",
        "  points=[]\n",
        "  for i in range(100):\n",
        "    points.append(np.asarray([[x , random.randint(low,high)]]))\n",
        "#   print(np.asarray(points))\n",
        "  return np.asarray(points)#.reshape(-1,1,2).astype(np.float32)\n",
        "    "
      ],
      "execution_count": 0,
      "outputs": []
    },
    {
      "metadata": {
        "id": "UBeRQbU2mjfK",
        "colab_type": "code",
        "colab": {
          "base_uri": "https://localhost:8080/",
          "height": 269
        },
        "outputId": "3da1e95e-b28d-4eb3-9b8d-b8984bb5ae8e"
      },
      "cell_type": "code",
      "source": [
        "import cv2 as cv\n",
        "cap = cv.VideoCapture('test8.mp4')\n",
        "blank_image = np.zeros((1500,2000,3), np.uint8)\n",
        "# Parameters for lucas kanade optical flow\n",
        "lk_params = dict( winSize  = (15,15),\n",
        "                  maxLevel = 2,\n",
        "                  criteria = (cv.TERM_CRITERIA_EPS | cv.TERM_CRITERIA_COUNT, 10, 0.03))\n",
        "# Create some random colors\n",
        "color = np.random.randint(0,255,(100,3))\n",
        "# Take first frame and find corners in it\n",
        "ret, old_frame = cap.read()\n",
        "old_frame=cv.resize(old_frame,(720,480))\n",
        "offsetx=400\n",
        "offsety=400\n",
        "\n",
        "old_gray = cv.cvtColor(old_frame, cv.COLOR_BGR2GRAY)\n",
        "ho,wo= old_gray.shape[0],old_gray.shape[1]\n",
        "blank_image[offsety:offsety+ho,offsetx:offsetx+wo,:]=old_frame\n",
        "n=10\n",
        "pl0 = Generate_points(wo/n,1,ho).reshape(-1,1,2).astype(np.float32)\n",
        "pr0 = Generate_points(wo*(n-1)/n,1,ho).reshape(-1,1,2).astype(np.float32) \n",
        "\n",
        "# pl0 = np.asarray([[[wo/n,ho*(n/5)/n]],[[wo/n,ho*(n/4)/n]],[[wo/n,ho*(n/3)/n]],[[wo/n,ho*(n/2)/n]],[[wo/n,ho*(n/1.5)/n]]])\n",
        "# pl0 = np.array(pl0).reshape(-1,1,2).astype(np.float32) \n",
        "# pr0 = np.asarray([[[wo*(n-1)/n,ho*(n/5)/n]],[[wo*(n-1)/n,ho*(n/4)/n]],[[wo*(n-1)/n,ho*(n/3)/n]],[[wo*(n-1)/n,ho*(n/2)/n]],[[wo*(n-1)/n,ho*(n/1.5)/n]]])\n",
        "# pr0 = np.array(pr0).reshape(-1,1,2).astype(np.float32)\n",
        "\n",
        "# Create a mask image for drawing purposes\n",
        "# mask = np.zeros_like(old_frame)\n",
        "counter=0\n",
        "\n",
        "while(ret):\n",
        "    counter+=1\n",
        "    ret,frame = cap.read()\n",
        "#     counter%3!=0 or \n",
        "    if(ret==False):\n",
        "      continue\n",
        "    \n",
        "#     print(ret)\n",
        "    frame= cv.resize(frame,(720,480))\n",
        "    frame_gray = cv.cvtColor(frame, cv.COLOR_BGR2GRAY)\n",
        "    # calculate optical flow\n",
        "    pl1, stl, errl = cv.calcOpticalFlowPyrLK(old_gray, frame_gray, pl0, None, **lk_params)\n",
        "    pr1, str, errr = cv.calcOpticalFlowPyrLK(old_gray, frame_gray, pr0, None, **lk_params)\n",
        "#     print(pl1)\n",
        "    good_newl = pl1[stl==1]\n",
        "    good_oldl = pl0[stl==1]\n",
        "    good_newr = pr1[str==1]\n",
        "    good_oldr = pr0[str==1]\n",
        "#     print(pr1.size,pr0.size)\n",
        "#     good_newl = pl1[errl<np.mean(errl)]\n",
        "#     good_oldl = pl0[errl<np.mean(errl)]\n",
        "#     good_newr = pr1[errr<np.mean(errr)]\n",
        "#     good_oldr = pr0[errr<np.mean(errr)] \n",
        "#     print(pr1.size,pr0.size,good_newr.size,good_oldr.size)\n",
        "    \n",
        "    try:\n",
        "      try:  \n",
        "        x_deflection_l=int(np.mean(good_newl[:,0]))-int(np.mean(good_oldl[:,0]))\n",
        "        y_deflection_l=int(np.mean(good_newl[:,1]))-int(np.mean(good_oldl[:,1]))\n",
        "        x_deflection_r=int(np.mean(good_newr[:,0]))-int(np.mean(good_oldr[:,0]))\n",
        "        y_deflection_r=int(np.mean(good_newr[:,1]))-int(np.mean(good_oldr[:,1]))\n",
        "      except:\n",
        "        pass\n",
        "  #     print(x_deflection_l, x_deflection_r, y_deflection_l, y_deflection_r)\n",
        "\n",
        "  #     if abs(x_deflection_l)==abs(x_deflection_r) and x_deflection_l!=x_deflection_r:\n",
        "      if x_deflection_l*x_deflection_r<0:  #handling z axis\n",
        "        change=(x_deflection_l-x_deflection_r)\n",
        "        ho= ho+int(change*ho/wo)\n",
        "        wo= wo+change\n",
        "        offsety-=int(change//2)\n",
        "        offsetx-=int(change//2)\n",
        "  #       print(\"resizing\", ho, wo,change)\n",
        "  #     if(y_deflection_l*y_deflection_r<0):\n",
        "  #       print(\"rotating\", y_deflection_l-y_deflection_r)\n",
        "      frame= cv.resize(frame,(wo,ho))\n",
        "\n",
        "\n",
        "\n",
        "      offsety=offsety- (y_deflection_l+y_deflection_r)//2\n",
        "      offsetx=offsetx- (x_deflection_l+x_deflection_r)//2\n",
        "  #     print(offsety, offsety+ho, offsetx, offsetx+wo, ho, wo,frame.shape )\n",
        "      blank_image[offsety:offsety+ho,offsetx:offsetx+wo,:]=frame\n",
        "    except:\n",
        "      print(\"1\")\n",
        "      pass\n",
        "    old_gray = frame_gray.copy()\n",
        "\n",
        "#     frame = imutils.rotate(frame, angle)\n",
        "    pl0 = Generate_points(wo/n,1,ho).reshape(-1,1,2).astype(np.float32)\n",
        "    pr0 = Generate_points(wo*(n-1)/n,1,ho).reshape(-1,1,2).astype(np.float32) \n",
        "    \n",
        "    \n",
        "cv.destroyAllWindows()\n",
        "cap.release()\n",
        "\n",
        "\n",
        "plt.imshow(blank_image)\n",
        "plt.grid(False)"
      ],
      "execution_count": 245,
      "outputs": [
        {
          "output_type": "display_data",
          "data": {
            "image/png": "[encoded data removed]",
            "text/plain": [
              "<matplotlib.figure.Figure at 0x7f8939190eb8>"
            ]
          },
          "metadata": {
            "tags": []
          }
        }
      ]
    },
    {
      "metadata": {
        "id": "BbsQzrj3WOBt",
        "colab_type": "code",
        "colab": {}
      },
      "cell_type": "code",
      "source": [
        ""
      ],
      "execution_count": 0,
      "outputs": []
    },
    {
      "metadata": {
        "id": "ImNde6xYzLcl",
        "colab_type": "code",
        "colab": {}
      },
      "cell_type": "code",
      "source": [
        "    x_diflection=int(np.sum(good_newl[:,0]*-1*good_new_errl/np.sum(-1*good_new_errl)))-int(np.sum(good_oldl[:,0]*-1*good_new_errl/np.sum(-1*good_new_errl)))\n",
        "    y_diflection=int(np.sum(good_newl[:,0]*-1*good_new_errl/np.sum(-1*good_new_errl)))-int(np.sum(good_oldl[:,0]*-1*good_new_errl/np.sum(-1*good_new_errl)))"
      ],
      "execution_count": 0,
      "outputs": []
    },
    {
      "metadata": {
        "id": "0l-canl8zLgH",
        "colab_type": "code",
        "colab": {}
      },
      "cell_type": "code",
      "source": [
        ""
      ],
      "execution_count": 0,
      "outputs": []
    },
    {
      "metadata": {
        "id": "J6NX5apJC9Zj",
        "colab_type": "code",
        "colab": {}
      },
      "cell_type": "code",
      "source": [
        "    # draw the tracks\n",
        "#     for i,(new,old) in enumerate(zip(good_new,good_old)):\n",
        "#         a,b = new.ravel()\n",
        "#         c,d = old.ravel()\n",
        "#         mask = cv.line(mask, (a,b),(c,d), color[i].tolist(), 2)\n",
        "#         frame = cv.circle(frame,(a,b),5,color[i].tolist(),-1)\n",
        "#     img = cv.add(frame,mask)\n",
        "#     plt.imshow(img)\n",
        "#     k = cv.waitKey(30) & 0xff\n",
        "#     if k == 27:\n",
        "#         break\n",
        "    # Now update the previous frame and previous points"
      ],
      "execution_count": 0,
      "outputs": []
    }
  ]
}