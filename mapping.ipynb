{
  "nbformat": 4,
  "nbformat_minor": 0,
  "metadata": {
    "colab": {
      "name": "mapping.ipynb",
      "version": "0.3.2",
      "provenance": [],
      "collapsed_sections": [],
      "include_colab_link": true
    },
    "kernelspec": {
      "name": "python3",
      "display_name": "Python 3"
    },
    "accelerator": "GPU"
  },
  "cells": [
    {
      "cell_type": "markdown",
      "metadata": {
        "id": "view-in-github",
        "colab_type": "text"
      },
      "source": [
        "[View in Colaboratory](https://colab.research.google.com/github/UjjwalSaxena/road-glare-removal-tests/blob/master/mapping.ipynb)"
      ]
    },
    {
      "metadata": {
        "id": "AH9cmVUQcjRP",
        "colab_type": "code",
        "colab": {}
      },
      "cell_type": "code",
      "source": [
        "# !pip install moviepy\n",
        "# import cv2\n",
        "# import time\n",
        "# import matplotlib.pyplot as plt\n",
        "# import moviepy\n",
        "# from moviepy.editor import VideoFileClip\n",
        "# import glob\n",
        "# %matplotlib inline\n",
        "# import numpy as np"
      ],
      "execution_count": 0,
      "outputs": []
    },
    {
      "metadata": {
        "id": "rSwpsMauduBQ",
        "colab_type": "code",
        "colab": {
          "base_uri": "https://localhost:8080/",
          "height": 102
        },
        "outputId": "1f0d9626-be09-489f-8905-6a38af72f0b1"
      },
      "cell_type": "code",
      "source": [
        "# def upload_files():\n",
        "#   from google.colab import files\n",
        "#   uploaded = files.upload()\n",
        "#   for k, v in uploaded.items():\n",
        "#     open(k, 'wb').write(v)\n",
        "#   return list(uploaded.keys())\n",
        "\n",
        "# upload_files()\n",
        "!ls -lrt\n",
        "!mv \"VID_20180905_191714382.mp4\" \"test1.mp4\"\n",
        "\n",
        "# !mkdir \"video_frames\""
      ],
      "execution_count": 33,
      "outputs": [
        {
          "output_type": "stream",
          "text": [
            "total 23808\r\n",
            "drwxr-xr-x 2 root root     4096 Aug 31 20:42 sample_data\r\n",
            "-rw-r--r-- 1 root root 14292943 Sep  5 18:24 test.mp4\r\n",
            "-rw-r--r-- 1 root root 10079771 Sep  5 19:03 test1.mp4\n",
            "mv: cannot stat 'VID_20180905_191714382.mp4': No such file or directory\n"
          ],
          "name": "stdout"
        }
      ]
    },
    {
      "metadata": {
        "id": "YWeTBWQkmkzY",
        "colab_type": "code",
        "colab": {}
      },
      "cell_type": "code",
      "source": [
        "\n",
        "def process(curr,next):\n",
        "  return cv2.calcOpticalFlowFarneback(curr,next, None, 0.5, 3, 15, 3, 5, 1.2, 0)   #pyr_scale, levels, winsize, iterations, poly_n, poly_sigma, flags\n",
        "\n",
        "\n",
        "import random\n",
        "def Generate_points(x,low,high):\n",
        "  points=[]\n",
        "  for i in range(50):\n",
        "    points.append(np.asarray([[x , random.randint(low,high)]]))\n",
        "#   print(np.asarray(points))\n",
        "  return np.asarray(points)#.reshape(-1,1,2).astype(np.float32)\n",
        "    "
      ],
      "execution_count": 0,
      "outputs": []
    },
    {
      "metadata": {
        "id": "UBeRQbU2mjfK",
        "colab_type": "code",
        "colab": {
          "base_uri": "https://localhost:8080/",
          "height": 492
        },
        "outputId": "73505434-1862-43a6-9e68-93f561ccce04"
      },
      "cell_type": "code",
      "source": [
        "import cv2 as cv\n",
        "cap = cv.VideoCapture('test.mp4')\n",
        "blank_image = np.zeros((800,1000,3), np.uint8)\n",
        "# Parameters for lucas kanade optical flow\n",
        "lk_params = dict( winSize  = (15,15),\n",
        "                  maxLevel = 2,\n",
        "                  criteria = (cv.TERM_CRITERIA_EPS | cv.TERM_CRITERIA_COUNT, 10, 0.03))\n",
        "# Create some random colors\n",
        "color = np.random.randint(0,255,(100,3))\n",
        "# Take first frame and find corners in it\n",
        "ret, old_frame = cap.read()\n",
        "old_frame=cv.resize(old_frame,(480,360))\n",
        "offsetx=100\n",
        "offsety=100\n",
        "\n",
        "old_gray = cv.cvtColor(old_frame, cv.COLOR_BGR2GRAY)\n",
        "ho,wo= old_gray.shape[0],old_gray.shape[1]\n",
        "blank_image[offsety:offsety+ho,offsetx:offsetx+wo,:]=old_frame\n",
        "n=10\n",
        "pl0 = Generate_points(wo/n,1,ho).reshape(-1,1,2).astype(np.float32)\n",
        "pr0 = Generate_points(wo*(n-1)/n,1,ho).reshape(-1,1,2).astype(np.float32) \n",
        "\n",
        "# pl0 = np.asarray([[[wo/n,ho*(n/5)/n]],[[wo/n,ho*(n/4)/n]],[[wo/n,ho*(n/3)/n]],[[wo/n,ho*(n/2)/n]],[[wo/n,ho*(n/1.5)/n]]])\n",
        "# pl0 = np.array(pl0).reshape(-1,1,2).astype(np.float32) \n",
        "# pr0 = np.asarray([[[wo*(n-1)/n,ho*(n/5)/n]],[[wo*(n-1)/n,ho*(n/4)/n]],[[wo*(n-1)/n,ho*(n/3)/n]],[[wo*(n-1)/n,ho*(n/2)/n]],[[wo*(n-1)/n,ho*(n/1.5)/n]]])\n",
        "# pr0 = np.array(pr0).reshape(-1,1,2).astype(np.float32)\n",
        "\n",
        "# Create a mask image for drawing purposes\n",
        "# mask = np.zeros_like(old_frame)\n",
        "counter=0\n",
        "\n",
        "while(ret):\n",
        "    counter+=1\n",
        "    ret,frame = cap.read()\n",
        "#     counter%3!=0 or \n",
        "    if(ret==False):\n",
        "      continue\n",
        "    \n",
        "#     print(ret)\n",
        "    frame= cv.resize(frame,(480,360))\n",
        "    frame_gray = cv.cvtColor(frame, cv.COLOR_BGR2GRAY)\n",
        "    # calculate optical flow\n",
        "    pl1, stl, errl = cv.calcOpticalFlowPyrLK(old_gray, frame_gray, pl0, None, **lk_params)\n",
        "    pr1, str, errr = cv.calcOpticalFlowPyrLK(old_gray, frame_gray, pr0, None, **lk_params)\n",
        "#     print(pl1)\n",
        "    good_newl = pl1[stl==1]\n",
        "    good_new_errl= errl[stl==1]\n",
        "    good_oldl = pl0[stl==1]\n",
        "#     print(good_new_errl)\n",
        "\n",
        "    good_newr = pr1[str==1]\n",
        "    good_new_errr= errr[str==1]\n",
        "    good_oldr = pr0[str==1]\n",
        "#     print(good_newl)\n",
        "#     print((good_newl[:,0]*good_new_errl*-1)/np.sum(-1*good_new_errl))\n",
        "\n",
        "#     print(np.sum(good_newl[:,0]*-1*good_new_errl/np.sum(-1*good_new_errl)))\n",
        "#     x_diflection=int(np.sum(good_newl[:,0]*-1*good_new_errl/np.sum(-1*good_new_errl)))-int(np.sum(good_oldl[:,0]*-1*good_new_errl/np.sum(-1*good_new_errl)))\n",
        "#     y_diflection=int(np.sum(good_newl[:,1]*-1*good_new_errl/np.sum(-1*good_new_errl)))-int(np.sum(good_oldl[:,1]*-1*good_new_errl/np.sum(-1*good_new_errl)))\n",
        "    x_deflection=int(np.mean(good_newl[:,0]))-int(np.mean(good_oldl[:,0]))\n",
        "    y_deflection=int(np.mean(good_newl[:,1]))-int(np.mean(good_oldl[:,1]))\n",
        "#     print(x_diflection)\n",
        "    offsety-=y_deflection\n",
        "    offsetx-=x_deflection\n",
        "    blank_image[offsety:offsety+ho,offsetx:offsetx+wo,:]=frame\n",
        "    old_gray = frame_gray.copy()\n",
        "#     if(good_newl.size<10):\n",
        "#       good_newl = Generate_points(wo/n,1,ho)\n",
        "#     if(good_newr.size<10):\n",
        "#       good_newr = Generate_points(wo*(n-1)/n,1,ho)\n",
        "    print(good_newl.size)\n",
        "    pl0 = good_newl.reshape(-1,1,2)\n",
        "    pr0 = good_newr.reshape(-1,1,2)\n",
        "    \n",
        "    \n",
        "cv.destroyAllWindows()\n",
        "cap.release()\n",
        "\n",
        "\n",
        "plt.imshow(blank_image)\n",
        "plt.grid(False)"
      ],
      "execution_count": 89,
      "outputs": [
        {
          "output_type": "stream",
          "text": [
            "94\n",
            "82\n",
            "74\n",
            "68\n",
            "68\n",
            "66\n",
            "66\n",
            "64\n",
            "58\n",
            "54\n",
            "54\n",
            "54\n",
            "54\n",
            "36\n"
          ],
          "name": "stdout"
        },
        {
          "output_type": "error",
          "ename": "ValueError",
          "evalue": "ignored",
          "traceback": [
            "\u001b[0;31m---------------------------------------------------------------------------\u001b[0m",
            "\u001b[0;31mValueError\u001b[0m                                Traceback (most recent call last)",
            "\u001b[0;32m<ipython-input-89-e672ebf928b8>\u001b[0m in \u001b[0;36m<module>\u001b[0;34m()\u001b[0m\n\u001b[1;32m     58\u001b[0m \u001b[0;31m#     x_diflection=int(np.sum(good_newl[:,0]*-1*good_new_errl/np.sum(-1*good_new_errl)))-int(np.sum(good_oldl[:,0]*-1*good_new_errl/np.sum(-1*good_new_errl)))\u001b[0m\u001b[0;34m\u001b[0m\u001b[0;34m\u001b[0m\u001b[0m\n\u001b[1;32m     59\u001b[0m \u001b[0;31m#     y_diflection=int(np.sum(good_newl[:,1]*-1*good_new_errl/np.sum(-1*good_new_errl)))-int(np.sum(good_oldl[:,1]*-1*good_new_errl/np.sum(-1*good_new_errl)))\u001b[0m\u001b[0;34m\u001b[0m\u001b[0;34m\u001b[0m\u001b[0m\n\u001b[0;32m---> 60\u001b[0;31m     \u001b[0mx_deflection\u001b[0m\u001b[0;34m=\u001b[0m\u001b[0mint\u001b[0m\u001b[0;34m(\u001b[0m\u001b[0mnp\u001b[0m\u001b[0;34m.\u001b[0m\u001b[0mmean\u001b[0m\u001b[0;34m(\u001b[0m\u001b[0mgood_newl\u001b[0m\u001b[0;34m[\u001b[0m\u001b[0;34m:\u001b[0m\u001b[0;34m,\u001b[0m\u001b[0;36m0\u001b[0m\u001b[0;34m]\u001b[0m\u001b[0;34m)\u001b[0m\u001b[0;34m)\u001b[0m\u001b[0;34m-\u001b[0m\u001b[0mint\u001b[0m\u001b[0;34m(\u001b[0m\u001b[0mnp\u001b[0m\u001b[0;34m.\u001b[0m\u001b[0mmean\u001b[0m\u001b[0;34m(\u001b[0m\u001b[0mgood_oldl\u001b[0m\u001b[0;34m[\u001b[0m\u001b[0;34m:\u001b[0m\u001b[0;34m,\u001b[0m\u001b[0;36m0\u001b[0m\u001b[0;34m]\u001b[0m\u001b[0;34m)\u001b[0m\u001b[0;34m)\u001b[0m\u001b[0;34m\u001b[0m\u001b[0m\n\u001b[0m\u001b[1;32m     61\u001b[0m     \u001b[0my_deflection\u001b[0m\u001b[0;34m=\u001b[0m\u001b[0mint\u001b[0m\u001b[0;34m(\u001b[0m\u001b[0mnp\u001b[0m\u001b[0;34m.\u001b[0m\u001b[0mmean\u001b[0m\u001b[0;34m(\u001b[0m\u001b[0mgood_newl\u001b[0m\u001b[0;34m[\u001b[0m\u001b[0;34m:\u001b[0m\u001b[0;34m,\u001b[0m\u001b[0;36m1\u001b[0m\u001b[0;34m]\u001b[0m\u001b[0;34m)\u001b[0m\u001b[0;34m)\u001b[0m\u001b[0;34m-\u001b[0m\u001b[0mint\u001b[0m\u001b[0;34m(\u001b[0m\u001b[0mnp\u001b[0m\u001b[0;34m.\u001b[0m\u001b[0mmean\u001b[0m\u001b[0;34m(\u001b[0m\u001b[0mgood_oldl\u001b[0m\u001b[0;34m[\u001b[0m\u001b[0;34m:\u001b[0m\u001b[0;34m,\u001b[0m\u001b[0;36m1\u001b[0m\u001b[0;34m]\u001b[0m\u001b[0;34m)\u001b[0m\u001b[0;34m)\u001b[0m\u001b[0;34m\u001b[0m\u001b[0m\n\u001b[1;32m     62\u001b[0m \u001b[0;31m#     print(x_diflection)\u001b[0m\u001b[0;34m\u001b[0m\u001b[0;34m\u001b[0m\u001b[0m\n",
            "\u001b[0;31mValueError\u001b[0m: cannot convert float NaN to integer"
          ]
        }
      ]
    },
    {
      "metadata": {
        "id": "ImNde6xYzLcl",
        "colab_type": "code",
        "colab": {}
      },
      "cell_type": "code",
      "source": [
        "    x_diflection=int(np.sum(good_newl[:,0]*-1*good_new_errl/np.sum(-1*good_new_errl)))-int(np.sum(good_oldl[:,0]*-1*good_new_errl/np.sum(-1*good_new_errl)))\n",
        "    y_diflection=int(np.sum(good_newl[:,0]*-1*good_new_errl/np.sum(-1*good_new_errl)))-int(np.sum(good_oldl[:,0]*-1*good_new_errl/np.sum(-1*good_new_errl)))"
      ],
      "execution_count": 0,
      "outputs": []
    },
    {
      "metadata": {
        "id": "0l-canl8zLgH",
        "colab_type": "code",
        "colab": {}
      },
      "cell_type": "code",
      "source": [
        ""
      ],
      "execution_count": 0,
      "outputs": []
    },
    {
      "metadata": {
        "id": "J6NX5apJC9Zj",
        "colab_type": "code",
        "colab": {}
      },
      "cell_type": "code",
      "source": [
        "    # draw the tracks\n",
        "#     for i,(new,old) in enumerate(zip(good_new,good_old)):\n",
        "#         a,b = new.ravel()\n",
        "#         c,d = old.ravel()\n",
        "#         mask = cv.line(mask, (a,b),(c,d), color[i].tolist(), 2)\n",
        "#         frame = cv.circle(frame,(a,b),5,color[i].tolist(),-1)\n",
        "#     img = cv.add(frame,mask)\n",
        "#     plt.imshow(img)\n",
        "#     k = cv.waitKey(30) & 0xff\n",
        "#     if k == 27:\n",
        "#         break\n",
        "    # Now update the previous frame and previous points"
      ],
      "execution_count": 0,
      "outputs": []
    }
  ]
}