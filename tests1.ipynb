{
  "nbformat": 4,
  "nbformat_minor": 0,
  "metadata": {
    "colab": {
      "name": "Hello, Colaboratory",
      "version": "0.3.2",
      "provenance": [],
      "collapsed_sections": [],
      "toc_visible": true,
      "include_colab_link": true
    },
    "kernelspec": {
      "display_name": "Python 3",
      "name": "python3"
    }
  },
  "cells": [
    {
      "cell_type": "markdown",
      "metadata": {
        "id": "view-in-github",
        "colab_type": "text"
      },
      "source": [
        "[View in Colaboratory](https://colab.research.google.com/github/UjjwalSaxena/road-glare-removal-tests/blob/master/tests1.ipynb)"
      ]
    },
    {
      "metadata": {
        "id": "9bF53S9XMh34",
        "colab_type": "code",
        "colab": {}
      },
      "cell_type": "code",
      "source": [
        "# def upload_files():\n",
        "#   from google.colab import files\n",
        "#   uploaded = files.upload()\n",
        "#   for k, v in uploaded.items():\n",
        "#     open(k, 'wb').write(v)\n",
        "#   return list(uploaded.keys())\n",
        "\n",
        "# upload_files()\n",
        "\n",
        "# !wget https://cdn-images-1.medium.com/max/1200/1*g5N5VKp-Jz3n41m-gmMdUg.jpeg\n",
        "\n",
        "\n",
        "# !mv \"1*g5N5VKp-Jz3n41m-gmMdUg.jpeg\" \"underExposed/underexpImage3.jpg\""
      ],
      "execution_count": 0,
      "outputs": []
    },
    {
      "metadata": {
        "id": "eyqsgcHSORD4",
        "colab_type": "code",
        "colab": {
          "base_uri": "https://localhost:8080/",
          "height": 170
        },
        "outputId": "81f34a73-1aff-477b-e102-6d4880f24f21"
      },
      "cell_type": "code",
      "source": [
        "# !mv \"overexpImage1.jpg\" \"overExposed/overexpImage1.jpg\"\n",
        "# !mv \"overexpImage4.jpg\" \"overExposed/overexpImage4.jpg\"\n",
        "# cd overExposed\n",
        "\n",
        "!ls -lrt"
      ],
      "execution_count": 64,
      "outputs": [
        {
          "output_type": "stream",
          "text": [
            "total 236\r\n",
            "-rw-r--r-- 1 root root  8086 Feb 10 11:21 images?q=tbn:ANd9GcTdunPIFTC9A5MS3SsZRlRnc1KBLQhQ7eBIpIWUbofRAD4X1KrW\r\n",
            "drwxr-xr-x 3 root root  4096 Jul 23 17:26 datalab\r\n",
            "-rw-r--r-- 1 root root 63100 Jul 25 07:39 overexpImage2.jpg\r\n",
            "-rw-r--r-- 1 root root 42492 Jul 25 07:39 frame0630.jpg.1\r\n",
            "-rw-r--r-- 1 root root 42510 Jul 25 07:40 overexpImage3.jpg\r\n",
            "-rw-r--r-- 1 root root 42492 Jul 25 07:51 frame0641.jpg\r\n",
            "drwxr-xr-x 2 root root  4096 Jul 25 09:51 overExposed\r\n",
            "drwxr-xr-x 2 root root  4096 Jul 25 09:57 underExposed\r\n"
          ],
          "name": "stdout"
        }
      ]
    },
    {
      "metadata": {
        "id": "-Jq5ImX2PvRH",
        "colab_type": "code",
        "colab": {}
      },
      "cell_type": "code",
      "source": [
        "import matplotlib.pyplot as plt\n",
        "# !pip install opencv-python\n",
        "import cv2 \n",
        "import glob"
      ],
      "execution_count": 0,
      "outputs": []
    },
    {
      "metadata": {
        "id": "1txFPoHyP15M",
        "colab_type": "code",
        "colab": {}
      },
      "cell_type": "code",
      "source": [
        "def loadImages(path):\n",
        "  return plt.imread(path)\n",
        "# plt.imshow(image)\n",
        "# import glob\n",
        "# imagePaths = [f for f in glob.glob('*.jpg')]\n",
        "# imagePaths"
      ],
      "execution_count": 0,
      "outputs": []
    },
    {
      "metadata": {
        "id": "qJuCWa1AQBZm",
        "colab_type": "code",
        "colab": {}
      },
      "cell_type": "code",
      "source": [
        "def getLuminosity(image):\n",
        "  return cv2.cvtColor(image, cv2.COLOR_RGB2YUV)[:,:,0]\n",
        "# plt.imshow(image_YUV)"
      ],
      "execution_count": 0,
      "outputs": []
    },
    {
      "metadata": {
        "id": "IBa8Hl5Y6N60",
        "colab_type": "code",
        "colab": {}
      },
      "cell_type": "code",
      "source": [
        "def getImagesFromFolder(foldername):\n",
        "  imagePaths = [image_path for image_path in glob.glob(foldername+'/*.jpg')]\n",
        "  images= [loadImages(image_path) for image_path in imagePaths]\n",
        "  return images\n"
      ],
      "execution_count": 0,
      "outputs": []
    },
    {
      "metadata": {
        "id": "_REnHGdw76n2",
        "colab_type": "code",
        "colab": {}
      },
      "cell_type": "code",
      "source": [
        "def getMedianOfImage(image):\n",
        "  single_d= image.ravel()\n",
        "  single_d_sorted=sorted(single_d)\n",
        "  median_luminance_value= single_d_sorted[len(single_d)//2]\n",
        "  return median_luminance_value\n",
        "\n",
        "def getMeanOfImage(image):\n",
        "  single_d= image.ravel()\n",
        "  mean_luminance_value= sum(single_d)/len(single_d)\n",
        "  return mean_luminance_value"
      ],
      "execution_count": 0,
      "outputs": []
    },
    {
      "metadata": {
        "id": "yEFv1kSqV7I7",
        "colab_type": "code",
        "colab": {}
      },
      "cell_type": "code",
      "source": [
        "\n",
        "overExposedImages= getImagesFromFolder(\"overExposed\")\n",
        "underExposedImages= getImagesFromFolder(\"underExposed\")\n",
        "\n",
        "# print(len(overExposedImages))\n",
        "# print(len(underExposedImages))\n",
        "\n",
        "overExposedMedianValues=[]\n",
        "overExposedmeanValues=[]\n",
        "underExposedMedianValues=[]\n",
        "underExposedmeanValues=[]\n",
        "\n",
        "for image in overExposedImages:\n",
        "  image_YUV= getLuminosity(image)\n",
        "  overExposedMedianValues.append(getMedianOfImage(image_YUV))\n",
        "  overExposedmeanValues.append(getMeanOfImage(image_YUV))\n",
        "\n",
        "for image in underExposedImages:\n",
        "  image_YUV= getLuminosity(image)\n",
        "  underExposedMedianValues.append(getMedianOfImage(image_YUV))\n",
        "  underExposedmeanValues.append(getMeanOfImage(image_YUV))"
      ],
      "execution_count": 0,
      "outputs": []
    },
    {
      "metadata": {
        "id": "5dUp-U54Wq1a",
        "colab_type": "code",
        "colab": {
          "base_uri": "https://localhost:8080/",
          "height": 272
        },
        "outputId": "5648b83a-9806-4eaa-8713-6f48ac3ce6c8"
      },
      "cell_type": "code",
      "source": [
        "print('Over exposed Stats:')\n",
        "print('====================')\n",
        "print('')\n",
        "print(\"%-20s %-10s %-20s\"  % (\"Median\",\"|\",\"Mean\"))\n",
        "for i in range(len(overExposedMedianValues)):\n",
        "  print(\"%-20s %-10s %-20s\"  % (overExposedMedianValues[i],\"|\",overExposedmeanValues[i]))\n",
        "\n",
        "print('')\n",
        "print('Under exposed Stats:')\n",
        "print('====================')\n",
        "print('')\n",
        "print(\"%-20s %-10s %-20s\"  % (\"Median\",\"|\",\"Mean\"))\n",
        "for i in range(len(underExposedMedianValues)):\n",
        "  print(\"%-20s %-10s %-20s\"  % (underExposedMedianValues[i],\"|\",underExposedmeanValues[i]))\n"
      ],
      "execution_count": 94,
      "outputs": [
        {
          "output_type": "stream",
          "text": [
            "Over exposed Stats:\n",
            "====================\n",
            "\n",
            "Median               |          Mean                \n",
            "85                   |          105.47745831807454  \n",
            "109                  |          108.58494074074073  \n",
            "97                   |          101.11117901053863  \n",
            "\n",
            "Under exposed Stats:\n",
            "====================\n",
            "\n",
            "Median               |          Mean                \n",
            "21                   |          34.569349142202164  \n",
            "59                   |          56.65385833333333   \n",
            "16                   |          47.60521979166667   \n"
          ],
          "name": "stdout"
        }
      ]
    },
    {
      "metadata": {
        "id": "sEL4sRpIEzmQ",
        "colab_type": "text"
      },
      "cell_type": "markdown",
      "source": [
        "Skewness: is a measure of (lack of) symmetry. For instance, if the skewness is negative, the histogram is negatively skewed. That means its left tail is longer or fatter than its right one (wiki:skewness). Therefore, the frequency over the darker intensities (closer to zero) is wider spread (less concentrated, but not necessarily less frequent than the right tail!). The positive skewness is the opposite."
      ]
    }
  ]
}